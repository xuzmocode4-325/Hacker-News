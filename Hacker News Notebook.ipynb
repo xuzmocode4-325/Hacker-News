{
 "cells": [
  {
   "attachments": {},
   "cell_type": "markdown",
   "metadata": {},
   "source": [
    "# Exploring Hacker News Posts "
   ]
  },
  {
   "attachments": {},
   "cell_type": "markdown",
   "metadata": {},
   "source": [
    "In this notebook a comparative analysis is conducted on submissions to the [Hacker News](https://news.ycombinator.com/) website. "
   ]
  },
  {
   "attachments": {},
   "cell_type": "markdown",
   "metadata": {},
   "source": [
    "The aim of the project is to compare two types of posts, namely `Ask HN` and `Show HN` to determine the following:\n",
    "\n",
    "- Do `Ask HN` or `Show HN` receive more comments on average?\n",
    "- Do posts created at a certain time receive more comments on average?"
   ]
  },
  {
   "cell_type": "code",
   "execution_count": 11,
   "metadata": {},
   "outputs": [],
   "source": [
    "from csv import reader\n",
    "hn_opened_file = open('hacker_news.csv')\n",
    "hn_read_file = reader(hn_opened_file)\n",
    "hn = list(hn_read_file)"
   ]
  },
  {
   "attachments": {},
   "cell_type": "markdown",
   "metadata": {},
   "source": [
    "First the header is separated from the data."
   ]
  },
  {
   "cell_type": "code",
   "execution_count": 12,
   "metadata": {},
   "outputs": [
    {
     "name": "stdout",
     "output_type": "stream",
     "text": [
      "[['11370829', 'Crate raises $4M seed round for its next-gen SQL database', 'http://techcrunch.com/2016/03/15/crate-raises-4m-seed-round-for-its-next-gen-sql-database/', '3', '1', 'hitekker', '3/27/2016 18:08'], ['11665197', 'Advertising Cannot Maintain the Internet. Heres the Secret Sauce Solution', 'http://evonomics.com/advertising-cannot-maintain-internet-heres-solution/', '2', '1', 'dredmorbius', '5/10/2016 4:46'], ['11981466', 'Coding Is Over', 'https://medium.com/@loorinm/coding-is-over-6d653abe8da8', '18', '14', 'prostoalex', '6/26/2016 16:36'], ['10627194', 'Show HN: Wio Link  ESP8266 Based Web of Things Hardware Development Platform', 'https://iot.seeed.cc', '26', '22', 'kfihihc', '11/25/2015 14:03'], ['11587596', 'Custom Deleters for C++ Smart Pointers', 'http://www.bfilipek.com/2016/04/custom-deleters-for-c-smart-pointers.html', '59', '18', 'ingve', '4/28/2016 10:01'], ['12335860', 'How often to update third party libraries?', '', '7', '5', 'rabid_oxen', '8/22/2016 12:37'], ['11403750', 'Review my AI based marketing bot', 'http://beta.crowdfireapp.com/?beta=agnipath', '1', '2', 'abhishekmaddy', '4/1/2016 9:45'], ['10610020', 'Ask HN: Am I the only one outraged by Twitter shutting down share counts?', '', '28', '29', 'tkfx', '11/22/2015 13:43'], ['10837634', \"Ten years later, did Boston's Big Dig deliver?\", 'https://www.bostonglobe.com/magazine/2015/12/29/years-later-did-big-dig-deliver/tSb8PIMS4QJUETsMpA7SpI/story.html', '109', '116', 'jseliger', '1/4/2016 18:58'], ['12121216', 'Valid.ly  Never send another OOPS message', 'https://www.valid.ly', '1', '1', 'validly', '7/19/2016 12:05']]\n"
     ]
    }
   ],
   "source": [
    "headers = hn[0]\n",
    "hn = hn[1:]\n",
    "\n",
    "#print(headers)\n",
    "print(hn[10:20])\n"
   ]
  },
  {
   "attachments": {},
   "cell_type": "markdown",
   "metadata": {},
   "source": [
    "Next, using a **for loop** the `Ask HN` and `Show HN` posts are separated from uncategorized posts (`other posts`) and one another into unique lists. "
   ]
  },
  {
   "cell_type": "code",
   "execution_count": 13,
   "metadata": {},
   "outputs": [
    {
     "name": "stdout",
     "output_type": "stream",
     "text": [
      "There are 1744 ask posts.\n",
      "There are 1162 show posts.\n",
      "There are 17194 uncategorized posts.\n"
     ]
    }
   ],
   "source": [
    "ask_posts = []\n",
    "show_posts = []\n",
    "other_posts = []\n",
    "\n",
    "for row in hn:\n",
    "    title = row[1].lower()\n",
    "    if title.startswith('ask hn'):\n",
    "        ask_posts.append(row)\n",
    "    elif title.startswith('show hn'):\n",
    "        show_posts.append(row)\n",
    "    else:\n",
    "        other_posts.append(row)\n",
    "    \n",
    "print('There are', len(ask_posts), 'ask posts.')\n",
    "print('There are', len(show_posts), 'show posts.')\n",
    "print('There are', len(other_posts), 'uncategorized posts.')"
   ]
  },
  {
   "attachments": {},
   "cell_type": "markdown",
   "metadata": {},
   "source": [
    "Having determined the number of posts in each respective category, the next step is to find out which category between `Ask HN` and `Show HN` recieves more comments. "
   ]
  },
  {
   "cell_type": "code",
   "execution_count": 14,
   "metadata": {},
   "outputs": [
    {
     "name": "stdout",
     "output_type": "stream",
     "text": [
      "There are 24483 comments in total for ask posts.\n",
      "There are 11988 comments in total for show posts.\n",
      "The Ask HN category has on average 14 comments per post.\n",
      "The Show HN category has on average 7 comments per post.\n",
      "Ask HN posts have more comments on average\n"
     ]
    }
   ],
   "source": [
    "total_ask_comments = 0\n",
    "\n",
    "for row in ask_posts:\n",
    "    num_comments = int(row[4]) \n",
    "    total_ask_comments += num_comments\n",
    "\n",
    "avg_ask_comments = round(total_ask_comments / len(ask_posts))\n",
    "\n",
    "total_show_comments = 0\n",
    "\n",
    "for row in show_posts:\n",
    "    num_comments = int(row[4]) \n",
    "    total_show_comments += num_comments\n",
    "\n",
    "avg_show_comments = round(total_show_comments / len(ask_posts))\n",
    "\n",
    "category = ''\n",
    "\n",
    "if avg_ask_comments > avg_show_comments:\n",
    "    category = 'Ask HN'\n",
    "else:\n",
    "    category = 'Show HN'\n",
    "\n",
    "statement = '{cat} posts have more comments on average'.format(cat = category)\n",
    "\n",
    "print('There are', total_ask_comments, 'comments in total for ask posts.')\n",
    "print('There are', total_show_comments, 'comments in total for show posts.')\n",
    "print('The Ask HN category has on average', avg_ask_comments, 'comments per post.')\n",
    "print('The Show HN category has on average', avg_show_comments, 'comments per post.')\n",
    "print(statement)"
   ]
  },
  {
   "attachments": {},
   "cell_type": "markdown",
   "metadata": {},
   "source": [
    "Focusing on the category with the higher number of posts on average, `Ask HN`, the following step is to try and determine if `Ask HN` posts are more likely to recieve comments at a certain time. This will be achieved by parsing the entry `created_at` column for each row using the `datetime` module to determine the hour in which a post was created. The total number of comments that each post has recieved are tallied according to the hour in which the post was created in. "
   ]
  },
  {
   "cell_type": "code",
   "execution_count": 15,
   "metadata": {},
   "outputs": [
    {
     "name": "stdout",
     "output_type": "stream",
     "text": [
      "{'09': 45, '13': 85, '10': 59, '14': 107, '16': 108, '23': 68, '12': 73, '17': 100, '15': 116, '21': 109, '20': 80, '02': 58, '18': 109, '03': 54, '05': 46, '19': 110, '01': 60, '22': 71, '08': 48, '04': 47, '00': 55, '06': 44, '07': 34, '11': 58}\n",
      "{'09': 251, '13': 1253, '10': 793, '14': 1416, '16': 1814, '23': 543, '12': 687, '17': 1146, '15': 4477, '21': 1745, '20': 1722, '02': 1381, '18': 1439, '03': 421, '05': 464, '19': 1188, '01': 683, '22': 479, '08': 492, '04': 337, '00': 447, '06': 397, '07': 267, '11': 641}\n"
     ]
    }
   ],
   "source": [
    "import datetime as dt\n",
    "\n",
    "results_list = []\n",
    "\n",
    "for row in ask_posts:\n",
    "    created_at = row[6]\n",
    "    num_comms = row[4]\n",
    "    results_list.append([created_at, num_comms])\n",
    "\n",
    "counts_by_hour = {}\n",
    "comments_by_hour = {}\n",
    "\n",
    "for item in results_list:\n",
    "    date = dt.datetime.strptime(item[0],'%m/%d/%Y %H:%M')\n",
    "    hour = dt.datetime.strftime(date, '%H')\n",
    "    cmnts = int(item[1])\n",
    "    if hour not in counts_by_hour:\n",
    "        counts_by_hour[hour] = 1\n",
    "        comments_by_hour[hour] = cmnts\n",
    "    else: \n",
    "        counts_by_hour[hour] += 1\n",
    "        comments_by_hour[hour] += cmnts\n",
    "\n",
    "print(counts_by_hour)\n",
    "print(comments_by_hour)"
   ]
  },
  {
   "attachments": {},
   "cell_type": "markdown",
   "metadata": {},
   "source": [
    "Having counted the amount of posts as well as comments to posts recieved per hour for `Ask HN` posts, next the aim is to find out what is the average amount of comments per post, per hour. "
   ]
  },
  {
   "cell_type": "code",
   "execution_count": 16,
   "metadata": {},
   "outputs": [
    {
     "name": "stdout",
     "output_type": "stream",
     "text": [
      "[['09', 6], ['13', 15], ['10', 13], ['14', 13], ['16', 17], ['23', 8], ['12', 9], ['17', 11], ['15', 39], ['21', 16], ['20', 22], ['02', 24], ['18', 13], ['03', 8], ['05', 10], ['19', 11], ['01', 11], ['22', 7], ['08', 10], ['04', 7], ['00', 8], ['06', 9], ['07', 8], ['11', 11]]\n"
     ]
    }
   ],
   "source": [
    "avg_by_hour = []\n",
    "for hour in comments_by_hour:\n",
    "    avg_by_hour.append([hour, round(comments_by_hour[hour]/counts_by_hour[hour])])\n",
    "\n",
    "print(avg_by_hour)"
   ]
  },
  {
   "attachments": {},
   "cell_type": "markdown",
   "metadata": {},
   "source": [
    "Next, a new list of lists is created in which the position of the `hour` and the `average comments` are swopped. This is to make it easy to see which hour receives the highest amount of average comments after sorting the list. "
   ]
  },
  {
   "cell_type": "code",
   "execution_count": 19,
   "metadata": {},
   "outputs": [
    {
     "data": {
      "text/plain": [
       "[[39, '15'], [24, '02'], [22, '20'], [17, '16'], [16, '21']]"
      ]
     },
     "execution_count": 19,
     "metadata": {},
     "output_type": "execute_result"
    }
   ],
   "source": [
    "swop_avg_by_hour = []\n",
    "for item in avg_by_hour:\n",
    "    hour = item[0]\n",
    "    avg =  item[1]\n",
    "    swop_avg_by_hour.append([avg, hour]) \n",
    "\n",
    "sorted_swop = sorted(swop_avg_by_hour, reverse=True)\n",
    "sorted_swop[0:5]\n",
    "\n"
   ]
  },
  {
   "attachments": {},
   "cell_type": "markdown",
   "metadata": {},
   "source": [
    "For each of the top 5 values in `sorted_swop` a string is printed with the value of average comments per hour for the hour as well as it's rank."
   ]
  },
  {
   "cell_type": "code",
   "execution_count": 25,
   "metadata": {},
   "outputs": [
    {
     "name": "stdout",
     "output_type": "stream",
     "text": [
      "At number 1 comes the hour of 15:00 with an average of 39 comments.\n",
      "At number 2 comes the hour of 02:00 with an average of 24 comments.\n",
      "At number 3 comes the hour of 20:00 with an average of 22 comments.\n",
      "At number 4 comes the hour of 16:00 with an average of 17 comments.\n",
      "At number 5 comes the hour of 21:00 with an average of 16 comments.\n"
     ]
    }
   ],
   "source": [
    "rank = 1\n",
    "for item in sorted_swop[0:5]:\n",
    "    avg = item[0]\n",
    "    time = dt.datetime.strptime(item[1], '%H').strftime('%H:%M')\n",
    "    statement = 'At number {r} comes the hour of {h} with an average of {a} comments.'.format(r=rank, h=time, a=avg)\n",
    "    print(statement)\n",
    "    rank += 1"
   ]
  },
  {
   "attachments": {},
   "cell_type": "markdown",
   "metadata": {},
   "source": [
    "Through this analysis we have determinded that `Ask HN` posts get more attention on average than `Show HN` posts and that the best time to post on Hacker News for optimal response would be at 3pm.  "
   ]
  }
 ],
 "metadata": {
  "kernelspec": {
   "display_name": "Python 3",
   "language": "python",
   "name": "python3"
  },
  "language_info": {
   "codemirror_mode": {
    "name": "ipython",
    "version": 3
   },
   "file_extension": ".py",
   "mimetype": "text/x-python",
   "name": "python",
   "nbconvert_exporter": "python",
   "pygments_lexer": "ipython3",
   "version": "3.11.0"
  },
  "orig_nbformat": 4
 },
 "nbformat": 4,
 "nbformat_minor": 2
}
